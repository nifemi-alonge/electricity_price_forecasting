{
  "nbformat": 4,
  "nbformat_minor": 0,
  "metadata": {
    "colab": {
      "provenance": [],
      "toc_visible": true,
      "authorship_tag": "ABX9TyNy6jVuIqxVNmDLOF6I7Aj1",
      "include_colab_link": true
    },
    "kernelspec": {
      "name": "python3",
      "display_name": "Python 3"
    },
    "language_info": {
      "name": "python"
    }
  },
  "cells": [
    {
      "cell_type": "markdown",
      "metadata": {
        "id": "view-in-github",
        "colab_type": "text"
      },
      "source": [
        "<a href=\"https://colab.research.google.com/github/nifemi-alonge/EPF/blob/main/NG_EPF_exercise.ipynb\" target=\"_parent\"><img src=\"https://colab.research.google.com/assets/colab-badge.svg\" alt=\"Open In Colab\"/></a>"
      ]
    },
    {
      "cell_type": "markdown",
      "source": [
        "## Questions\n",
        "\n",
        "**Please note** that we might not have enough time to go through all of these questions during the interview. However, we will read through your answers before the interview, so please make sure to explain your reasoning in sufficient detail.\n",
        "\n",
        "1. **Briefly explain conceptually how you would approach this problem**\n",
        "2. **Present your final model, how the results compare to ground truth and your observations**\n",
        "3. **Describe your feature selection process**\n",
        "4. **Compare the performance of your models and describe how you selected the best performing one**\n",
        "5. **What (if any) simplifying assumptions did you have to make? What additional insight/analysis/data would be required to make your model more robust?**\n",
        "6. **How would you productionise a model run on a local PC on VBA which takes 10 hours runtime?**\n",
        "7. **Given we combine separate analysis such as power system software (e.g. PLEXOS), external APIs, and local CSV files, what architectural and process consideration do you need to make when developing and running a model?**"
      ],
      "metadata": {
        "id": "Om0_yv6sMVx_"
      }
    },
    {
      "cell_type": "markdown",
      "source": [
        "## Set up"
      ],
      "metadata": {
        "id": "IAY-T-MRNeD_"
      }
    },
    {
      "cell_type": "markdown",
      "source": [
        "### Packages"
      ],
      "metadata": {
        "id": "sVAZS_5fNhrX"
      }
    },
    {
      "cell_type": "code",
      "execution_count": 1,
      "metadata": {
        "colab": {
          "base_uri": "https://localhost:8080/"
        },
        "id": "6g0Y8RQYJfXF",
        "outputId": "95d19d0a-8bad-4b68-98cc-921a32a80e47"
      },
      "outputs": [
        {
          "output_type": "stream",
          "name": "stdout",
          "text": [
            "Mounted at /content/drive\n"
          ]
        }
      ],
      "source": [
        "from google.colab import drive\n",
        "drive.mount('/content/drive')"
      ]
    },
    {
      "cell_type": "markdown",
      "source": [
        "### Load in data"
      ],
      "metadata": {
        "id": "xRYKbYdWNjZu"
      }
    },
    {
      "cell_type": "code",
      "source": [],
      "metadata": {
        "id": "kLgasrFrNk-c"
      },
      "execution_count": null,
      "outputs": []
    },
    {
      "cell_type": "markdown",
      "source": [
        "## Data wrangling"
      ],
      "metadata": {
        "id": "M3DWr4tJNlk-"
      }
    },
    {
      "cell_type": "code",
      "source": [],
      "metadata": {
        "id": "SYZ0UbRuNnT_"
      },
      "execution_count": null,
      "outputs": []
    },
    {
      "cell_type": "markdown",
      "source": [
        "## Modelling"
      ],
      "metadata": {
        "id": "XQFyM1d8NndH"
      }
    },
    {
      "cell_type": "markdown",
      "source": [
        "### Model 1"
      ],
      "metadata": {
        "id": "kTpm_9X-NtIP"
      }
    },
    {
      "cell_type": "code",
      "source": [],
      "metadata": {
        "id": "h4Aa4jgJNpiv"
      },
      "execution_count": null,
      "outputs": []
    },
    {
      "cell_type": "markdown",
      "source": [
        "### Model 2"
      ],
      "metadata": {
        "id": "BTDeF8RDNqzI"
      }
    },
    {
      "cell_type": "code",
      "source": [],
      "metadata": {
        "id": "ng0Z9WMFNvoh"
      },
      "execution_count": null,
      "outputs": []
    },
    {
      "cell_type": "markdown",
      "source": [
        "### Model 3"
      ],
      "metadata": {
        "id": "MPaGM_i-Nvvb"
      }
    },
    {
      "cell_type": "code",
      "source": [],
      "metadata": {
        "id": "_Itu8T-FNxIv"
      },
      "execution_count": null,
      "outputs": []
    },
    {
      "cell_type": "markdown",
      "source": [
        "## Evaluation"
      ],
      "metadata": {
        "id": "TxJckN9aNxqn"
      }
    },
    {
      "cell_type": "code",
      "source": [],
      "metadata": {
        "id": "vDJR7WY0NzZv"
      },
      "execution_count": null,
      "outputs": []
    },
    {
      "cell_type": "markdown",
      "source": [
        "## Final output"
      ],
      "metadata": {
        "id": "__yT9HMjNzi3"
      }
    }
  ]
}